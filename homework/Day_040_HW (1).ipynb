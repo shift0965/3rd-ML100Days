{
 "cells": [
  {
   "cell_type": "markdown",
   "metadata": {},
   "source": [
    "## [作業重點]\n",
    "使用 Sklearn 中的 Lasso, Ridge 模型，來訓練各種資料集，務必了解送進去模型訓練的**資料型態**為何，也請了解模型中各項參數的意義。\n",
    "\n",
    "機器學習的模型非常多種，但要訓練的資料多半有固定的格式，確保你了解訓練資料的格式為何，這樣在應用新模型時，就能夠最快的上手開始訓練！"
   ]
  },
  {
   "cell_type": "markdown",
   "metadata": {},
   "source": [
    "## 練習時間\n",
    "試著使用 sklearn datasets 的其他資料集 (boston, ...)，來訓練自己的線性迴歸模型，並加上適當的正則化來觀察訓練情形。"
   ]
  },
  {
   "cell_type": "code",
   "execution_count": 103,
   "metadata": {},
   "outputs": [],
   "source": [
    "import numpy as np\n",
    "import matplotlib.pyplot as plot\n",
    "from sklearn import datasets,linear_model\n",
    "from sklearn.metrics import r2_score,mean_squared_error\n",
    "from sklearn.model_selection import train_test_split"
   ]
  },
  {
   "cell_type": "code",
   "execution_count": 104,
   "metadata": {},
   "outputs": [],
   "source": [
    "#LinearRegression\n",
    "#引入資料\n",
    "boston = datasets.load_boston()\n",
    "#分割\n",
    "x_train,x_test,y_train,y_test =train_test_split(boston.data ,boston.target ,test_size=0.1,random_state=2)\n",
    "#決定模組\n",
    "lir =linear_model.LinearRegression()\n",
    "#丟入模組\n",
    "lir.fit(x_train,y_train)\n",
    "#擬合\n",
    "y_pred=lir.predict(x_test)"
   ]
  },
  {
   "cell_type": "code",
   "execution_count": 105,
   "metadata": {},
   "outputs": [
    {
     "name": "stdout",
     "output_type": "stream",
     "text": [
      "Mean square error: 22.419\n",
      "\n",
      "coefficient: \n",
      " [-1.12117395e-01  4.32310508e-02 -6.34775250e-04  2.80169496e+00\n",
      " -1.52058509e+01  3.81088444e+00 -5.84976321e-04 -1.42337890e+00\n",
      "  3.28062496e-01 -1.23382752e-02 -9.78861692e-01  1.13037911e-02\n",
      " -5.49984816e-01] \n",
      "\n",
      "r2_score : 0.708\n"
     ]
    }
   ],
   "source": [
    "#測量均方差\n",
    "print(\"Mean square error: %.3f\\n\" %mean_squared_error(y_pred,y_test))\n",
    "#特征係數\n",
    "print(\"coefficient: \\n\" ,lir.coef_,\"\\n\")\n",
    "#決定係數\n",
    "print(\"r2_score : %.3f\" %r2_score(y_pred,y_test))"
   ]
  },
  {
   "cell_type": "code",
   "execution_count": 106,
   "metadata": {},
   "outputs": [
    {
     "name": "stdout",
     "output_type": "stream",
     "text": [
      "Mean square error: 25.627\n",
      "\n",
      "coefficient:\n",
      "  [-0.08696783  0.04548064 -0.00923989  0.         -0.          2.48373522\n",
      "  0.00414003 -0.94660148  0.30835688 -0.0154487  -0.82739601  0.01132597\n",
      " -0.68671233] \n",
      "\n",
      "r2_score : 0.652\n"
     ]
    }
   ],
   "source": [
    "#LASSO\n",
    "#決定模組\n",
    "Lasso_50 =linear_model.Lasso(alpha=0.5)\n",
    "#丟入模組\n",
    "Lasso_50.fit(x_train,y_train)\n",
    "#擬合\n",
    "y_pred=Lasso_50.predict(x_test)\n",
    "\n",
    "#測量均方差\n",
    "print(\"Mean square error: %.3f\\n\" %mean_squared_error(y_pred,y_test))\n",
    "#特征係數\n",
    "print(\"coefficient:\\n \" ,Lasso_50.coef_,\"\\n\")\n",
    "#決定係數\n",
    "print(\"r2_score : %.3f\" %r2_score(y_pred,y_test))"
   ]
  },
  {
   "cell_type": "code",
   "execution_count": 107,
   "metadata": {},
   "outputs": [
    {
     "name": "stdout",
     "output_type": "stream",
     "text": [
      "Mean square error: 26.726\n",
      "\n",
      "coefficient:\n",
      "  [-0.06251812  0.04470187 -0.          0.         -0.          0.9652968\n",
      "  0.01975487 -0.70059425  0.2947923  -0.01544398 -0.79123436  0.00985053\n",
      " -0.79150307] \n",
      "\n",
      "r2_score : 0.609\n"
     ]
    }
   ],
   "source": [
    "#LASSO\n",
    "#決定模組\n",
    "Lasso_100 =linear_model.Lasso(alpha=1)\n",
    "#丟入模組\n",
    "Lasso_100.fit(x_train,y_train)\n",
    "#擬合\n",
    "y_pred=Lasso_100.predict(x_test)\n",
    "\n",
    "#測量均方差\n",
    "print(\"Mean square error: %.3f\\n\" %mean_squared_error(y_pred,y_test))\n",
    "#特征係數\n",
    "print(\"coefficient:\\n \" ,Lasso_100.coef_,\"\\n\")\n",
    "#決定係數\n",
    "print(\"r2_score : %.3f\" %r2_score(y_pred,y_test))"
   ]
  },
  {
   "cell_type": "code",
   "execution_count": 113,
   "metadata": {},
   "outputs": [
    {
     "name": "stdout",
     "output_type": "stream",
     "text": [
      "Mean squared error : 23.200\n",
      "\n",
      "coefficient : \n",
      " [-1.10914498e-01  4.37618492e-02 -1.67299997e-02  2.73576405e+00\n",
      " -1.09998868e+01  3.82949772e+00 -4.04590022e-03 -1.36042056e+00\n",
      "  3.19395900e-01 -1.27034915e-02 -9.35934649e-01  1.15840625e-02\n",
      " -5.56671620e-01]\n",
      "\n",
      " r2_score :0.698\n"
     ]
    }
   ],
   "source": [
    "#Ridge\n",
    "#決定模組\n",
    "rid50=linear_model.Ridge(alpha=0.5)\n",
    "#丟入數據\n",
    "rid50.fit(x_train,y_train)\n",
    "#預測\n",
    "y_pred=rid50.predict(x_test)\n",
    "\n",
    "#測量均方差\n",
    "print(\"Mean squared error : %.3f\\n\" %mean_squared_error(y_pred,y_test))\n",
    "#特征係數\n",
    "print(\"coefficient : \\n\",rid50.coef_)\n",
    "#決定係數\n",
    "print(\"\\n r2_score :%.3f\" %r2_score(y_pred,y_test))"
   ]
  },
  {
   "cell_type": "code",
   "execution_count": 114,
   "metadata": {},
   "outputs": [
    {
     "name": "stdout",
     "output_type": "stream",
     "text": [
      "Mean squared error : 23.714\n",
      "\n",
      "coefficient : \n",
      " [-1.10244491e-01  4.40929812e-02 -2.57822919e-02  2.67978437e+00\n",
      " -8.61589999e+00  3.83363030e+00 -5.94175321e-03 -1.32488165e+00\n",
      "  3.14781960e-01 -1.29252388e-02 -9.12137283e-01  1.17405189e-02\n",
      " -5.60997848e-01]\n",
      "\n",
      " r2_score :0.692\n"
     ]
    }
   ],
   "source": [
    "#Ridge\n",
    "#決定模組\n",
    "rid100=linear_model.Ridge(alpha=1)\n",
    "#丟入數據\n",
    "rid100.fit(x_train,y_train)\n",
    "#預測\n",
    "y_pred=rid100.predict(x_test)\n",
    "\n",
    "#測量均方差\n",
    "print(\"Mean squared error : %.3f\\n\" %mean_squared_error(y_pred,y_test))\n",
    "#特征係數\n",
    "print(\"coefficient : \\n\",rid100.coef_)\n",
    "#決定係數\n",
    "print(\"\\n r2_score :%.3f\" %r2_score(y_pred,y_test))"
   ]
  },
  {
   "cell_type": "markdown",
   "metadata": {},
   "source": [
    "1.共同：alpha提升之後均方差與決定係數都提升，可見模型在正規化後都比較不複雜，限制機器的擬合能力。隨著alpha的提升，均方差與決定係數也都雙雙提升，可見alpha提升能讓模型更不複雜。\n",
    "\n",
    "2.跟LASSO比起來Ridge比較溫和，與原本的均方差與決定係數的差異較小\n"
   ]
  },
  {
   "cell_type": "code",
   "execution_count": null,
   "metadata": {},
   "outputs": [],
   "source": []
  }
 ],
 "metadata": {
  "kernelspec": {
   "display_name": "Python 3",
   "language": "python",
   "name": "python3"
  },
  "language_info": {
   "codemirror_mode": {
    "name": "ipython",
    "version": 3
   },
   "file_extension": ".py",
   "mimetype": "text/x-python",
   "name": "python",
   "nbconvert_exporter": "python",
   "pygments_lexer": "ipython3",
   "version": "3.7.3"
  }
 },
 "nbformat": 4,
 "nbformat_minor": 2
}
