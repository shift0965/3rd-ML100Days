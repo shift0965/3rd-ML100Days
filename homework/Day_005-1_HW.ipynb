{
 "cells": [
  {
   "cell_type": "markdown",
   "metadata": {},
   "source": [
    "# [作業目標]\n",
    "- 利用範例的創建方式, 創建一組資料, 並練習如何取出最大值"
   ]
  },
  {
   "cell_type": "markdown",
   "metadata": {},
   "source": [
    "# [作業重點]\n",
    "- 練習創立 DataFrame (In[2])\n",
    "- 如何取出口數最多的國家 (In[3], Out[3])"
   ]
  },
  {
   "cell_type": "markdown",
   "metadata": {},
   "source": [
    "## 練習時間\n",
    "在小量的資料上，我們用眼睛就可以看得出來程式碼是否有跑出我們理想中的結果\n",
    "\n",
    "請嘗試想像一個你需要的資料結構 (裡面的值可以是隨機的)，然後用上述的方法把它變成 pandas DataFrame\n",
    "\n",
    "#### Ex: 想像一個 dataframe 有兩個欄位，一個是國家，一個是人口，求人口數最多的國家\n",
    "\n",
    "### Hints: [隨機產生數值](https://blog.csdn.net/christianashannon/article/details/78867204)"
   ]
  },
  {
   "cell_type": "code",
   "execution_count": 12,
   "metadata": {},
   "outputs": [],
   "source": [
    "import pandas as pd\n",
    "import numpy as np"
   ]
  },
  {
   "cell_type": "code",
   "execution_count": 29,
   "metadata": {},
   "outputs": [
    {
     "name": "stdout",
     "output_type": "stream",
     "text": [
      "            國家    人口\n",
      "0     country1  1486\n",
      "1     country2  6458\n",
      "2     country3  9382\n",
      "3     country4  4270\n",
      "4     country5  2434\n",
      "5     country6  2273\n",
      "6     country7  6233\n",
      "7     country8  9800\n",
      "8     country9  9818\n",
      "9    country10  9176\n",
      "10   country11  4228\n",
      "11   country12  7195\n",
      "12   country13  5205\n",
      "13   country14  2140\n",
      "14   country15  5412\n",
      "15   country16  7876\n",
      "16   country17  5562\n",
      "17   country18  9727\n",
      "18   country19  3348\n",
      "19   country20  1633\n",
      "20   country21  9537\n",
      "21   country22  2177\n",
      "22   country23  3195\n",
      "23   country24  5495\n",
      "24   country25  9507\n",
      "25   country26  2385\n",
      "26   country27  5645\n",
      "27   country28  7822\n",
      "28   country29  8653\n",
      "29   country30  6593\n",
      "..         ...   ...\n",
      "70   country71  4601\n",
      "71   country72  9687\n",
      "72   country73  4938\n",
      "73   country74  8908\n",
      "74   country75  7932\n",
      "75   country76  2225\n",
      "76   country77  6840\n",
      "77   country78  2077\n",
      "78   country79  4185\n",
      "79   country80  8176\n",
      "80   country81  1490\n",
      "81   country82  2017\n",
      "82   country83  8394\n",
      "83   country84  1553\n",
      "84   country85  9043\n",
      "85   country86  6404\n",
      "86   country87  4514\n",
      "87   country88  6676\n",
      "88   country89  2597\n",
      "89   country90  7598\n",
      "90   country91  7304\n",
      "91   country92  6862\n",
      "92   country93  3076\n",
      "93   country94  1548\n",
      "94   country95  5389\n",
      "95   country96  5282\n",
      "96   country97  6128\n",
      "97   country98  4494\n",
      "98   country99  1759\n",
      "99  country100  4422\n",
      "\n",
      "[100 rows x 2 columns]\n"
     ]
    }
   ],
   "source": [
    "num_country=100\n",
    "population=np.random.randint(1000,10000,100)\n",
    "country=[]\n",
    "\n",
    "for i in range(1,num_country+1):\n",
    "    country.append('country'+str(i))\n",
    "\n",
    "data = {'國家': country,\n",
    "        '人口': population }\n",
    "data = pd.DataFrame(data)\n",
    "print(data)"
   ]
  },
  {
   "cell_type": "code",
   "execution_count": 36,
   "metadata": {},
   "outputs": [
    {
     "name": "stdout",
     "output_type": "stream",
     "text": [
      "人口數最多的國家: country9 人口數: 9818\n"
     ]
    }
   ],
   "source": [
    "print('人口數最多的國家:',data.sort_values(by='人口',ascending=False).iloc[0,0],\n",
    "     '人口數:',data.sort_values(by='人口',ascending=False).iloc[0,1])"
   ]
  },
  {
   "cell_type": "code",
   "execution_count": null,
   "metadata": {},
   "outputs": [],
   "source": []
  },
  {
   "cell_type": "code",
   "execution_count": null,
   "metadata": {},
   "outputs": [],
   "source": []
  },
  {
   "cell_type": "code",
   "execution_count": null,
   "metadata": {},
   "outputs": [],
   "source": []
  }
 ],
 "metadata": {
  "kernelspec": {
   "display_name": "Python 3",
   "language": "python",
   "name": "python3"
  },
  "language_info": {
   "codemirror_mode": {
    "name": "ipython",
    "version": 3
   },
   "file_extension": ".py",
   "mimetype": "text/x-python",
   "name": "python",
   "nbconvert_exporter": "python",
   "pygments_lexer": "ipython3",
   "version": "3.7.3"
  }
 },
 "nbformat": 4,
 "nbformat_minor": 2
}
