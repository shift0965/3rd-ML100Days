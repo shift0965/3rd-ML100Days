{
 "cells": [
  {
   "cell_type": "markdown",
   "metadata": {},
   "source": [
    "## [作業目標]\n",
    "了解機器學習適合應用的領域與範疇。"
   ]
  },
  {
   "cell_type": "markdown",
   "metadata": {},
   "source": [
    "## [作業重點]\n",
    "透過瞭解機器學習的運作方式，找出非常適用機器學習應用的領域及其原因"
   ]
  },
  {
   "cell_type": "markdown",
   "metadata": {},
   "source": [
    "## 作業\n",
    "請找出一個你認為機器學習可以發光發熱的領域並闡述原因? \n",
    "模仿製圖\n",
    "前陣子玩過一個遊戲是辨識兩張照片，一張是由電腦繪製出來的圖片一張是真人的圖片，選出哪一張是真人。電腦能製作出來的圖片真的超出我的想像，光澤眼皮嘴角每一個細節都非常逼真。我認為這領域會如此突出的原因是，機器學習能在短時間內吸取大量資訊，同樣在短時間內大量輸出以及學習快速。電腦在前幾千張的表現很糟糕，但隨著作畫次數的增加，到最終出錯率降至超低，幾乎一張都是活生生的面孔。整個訓練的過程也不用太多的時間，這就是機器學習優勢的所在。"
   ]
  },
  {
   "cell_type": "code",
   "execution_count": null,
   "metadata": {},
   "outputs": [],
   "source": [
    "   "
   ]
  }
 ],
 "metadata": {
  "kernelspec": {
   "display_name": "Python 3",
   "language": "python",
   "name": "python3"
  },
  "language_info": {
   "codemirror_mode": {
    "name": "ipython",
    "version": 3
   },
   "file_extension": ".py",
   "mimetype": "text/x-python",
   "name": "python",
   "nbconvert_exporter": "python",
   "pygments_lexer": "ipython3",
   "version": "3.7.3"
  }
 },
 "nbformat": 4,
 "nbformat_minor": 2
}
