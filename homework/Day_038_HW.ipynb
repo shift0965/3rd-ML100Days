{
 "cells": [
  {
   "cell_type": "markdown",
   "metadata": {},
   "source": [
    "## [作業重點]\n",
    "使用 Sklearn 中的線性迴歸模型，來訓練各種資料集，務必了解送進去模型訓練的**資料型態**為何，也請了解模型中各項參數的意義"
   ]
  },
  {
   "cell_type": "markdown",
   "metadata": {},
   "source": [
    "## 作業\n",
    "試著使用 sklearn datasets 的其他資料集 (wine, boston, ...)，來訓練自己的線性迴歸模型。"
   ]
  },
  {
   "cell_type": "markdown",
   "metadata": {},
   "source": [
    "### HINT: 注意 label 的型態，確定資料集的目標是分類還是回歸，在使用正確的模型訓練！"
   ]
  },
  {
   "cell_type": "code",
   "execution_count": 3,
   "metadata": {},
   "outputs": [],
   "source": [
    "import numpy as np\n",
    "import matplotlib.pyplot as plt\n",
    "from sklearn import datasets,linear_model\n",
    "from sklearn.model_selection import train_test_split\n",
    "from sklearn.metrics import mean_squared_error,r2_score,accuracy_score"
   ]
  },
  {
   "cell_type": "code",
   "execution_count": 45,
   "metadata": {},
   "outputs": [],
   "source": [
    "#引入資料\n",
    "boston=datasets.load_boston()\n",
    "\n",
    "#取其中CLOUMN\n",
    "X=boston.data[:,np.newaxis,5]\n",
    "\n",
    "#切分訓練集/測試集\n",
    "x_train ,x_test ,y_train ,y_test=train_test_split(X ,boston.target ,train_size=0.9,random_state=1)\n",
    "\n",
    "#建立模型\n",
    "linear_reg=linear_model.LinearRegression()\n",
    "\n",
    "#數據丟入模組\n",
    "linear_reg.fit(x_train,y_train)\n",
    "\n",
    "#預測測試數據\n",
    "y_pred=linear_reg.predict(x_test)"
   ]
  },
  {
   "cell_type": "code",
   "execution_count": 54,
   "metadata": {},
   "outputs": [
    {
     "name": "stdout",
     "output_type": "stream",
     "text": [
      "r2score: 0.58\n",
      "coefficient:  [8.98089905]\n"
     ]
    }
   ],
   "source": [
    "#決定係數\n",
    "print('r2score: %.2f' % r2_score(y_test,y_pred))\n",
    "#模型參數\n",
    "print('coefficient: ',linear_reg.coef_)"
   ]
  },
  {
   "cell_type": "code",
   "execution_count": 79,
   "metadata": {},
   "outputs": [
    {
     "data": {
      "image/png": "[encoded data removed]",
      "text/plain": [
       "<Figure size 432x288 with 1 Axes>"
      ]
     },
     "metadata": {
      "needs_background": "light"
     },
     "output_type": "display_data"
    }
   ],
   "source": [
    "plt.scatter(x_test,y_test,color='black',label='data')\n",
    "plt.plot(x_test,y_pred,color='blue',label='predict',linewidth=2)\n",
    "plt.legend()\n",
    "plt.show()\n"
   ]
  },
  {
   "cell_type": "code",
   "execution_count": 93,
   "metadata": {},
   "outputs": [
    {
     "name": "stderr",
     "output_type": "stream",
     "text": [
      "C:\\Users\\jackie\\Anaconda3\\lib\\site-packages\\sklearn\\linear_model\\logistic.py:432: FutureWarning: Default solver will be changed to 'lbfgs' in 0.22. Specify a solver to silence this warning.\n",
      "  FutureWarning)\n"
     ]
    }
   ],
   "source": [
    "#引入資料\n",
    "breast_cancer = datasets.load_breast_cancer()\n",
    "\n",
    "#劃分資料\n",
    "x_train ,x_test ,y_train ,y_test=train_test_split(breast_cancer.data ,breast_cancer.target ,test_size=0.1)\n",
    "\n",
    "#選擇模組\n",
    "log=linear_model.LogisticRegression()\n",
    "\n",
    "#丟入數據\n",
    "log.fit(x_train,y_train)\n",
    "\n",
    "#擬合\n",
    "y_pred=log.predict(x_test)"
   ]
  },
  {
   "cell_type": "code",
   "execution_count": 92,
   "metadata": {},
   "outputs": [
    {
     "name": "stdout",
     "output_type": "stream",
     "text": [
      "0.9298245614035088\n"
     ]
    }
   ],
   "source": [
    "#分類準確率\n",
    "print(accuracy_score(y_test,y_pred))"
   ]
  },
  {
   "cell_type": "code",
   "execution_count": null,
   "metadata": {},
   "outputs": [],
   "source": []
  }
 ],
 "metadata": {
  "kernelspec": {
   "display_name": "Python 3",
   "language": "python",
   "name": "python3"
  },
  "language_info": {
   "codemirror_mode": {
    "name": "ipython",
    "version": 3
   },
   "file_extension": ".py",
   "mimetype": "text/x-python",
   "name": "python",
   "nbconvert_exporter": "python",
   "pygments_lexer": "ipython3",
   "version": "3.7.3"
  }
 },
 "nbformat": 4,
 "nbformat_minor": 2
}
