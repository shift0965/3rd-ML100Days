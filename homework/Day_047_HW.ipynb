{
 "cells": [
  {
   "cell_type": "markdown",
   "metadata": {},
   "source": [
    "## [作業重點]\n",
    "了解如何使用 Sklearn 中的 hyper-parameter search 找出最佳的超參數"
   ]
  },
  {
   "cell_type": "markdown",
   "metadata": {},
   "source": [
    "### 作業\n",
    "請使用不同的資料集，並使用 hyper-parameter search 的方式，看能不能找出最佳的超參數組合"
   ]
  },
  {
   "cell_type": "code",
   "execution_count": 55,
   "metadata": {},
   "outputs": [],
   "source": [
    "from sklearn import datasets,metrics\n",
    "from sklearn.model_selection import train_test_split ,KFold, GridSearchCV\n",
    "from sklearn.ensemble import GradientBoostingRegressor"
   ]
  },
  {
   "cell_type": "code",
   "execution_count": 56,
   "metadata": {},
   "outputs": [],
   "source": [
    "wine=datasets.load_wine()\n",
    "x_train,x_test,y_train,y_test=train_test_split(wine.data,wine.target,test_size=0.25,random_state=1)\n",
    "gbr=GradientBoostingRegressor(random_state=7)"
   ]
  },
  {
   "cell_type": "code",
   "execution_count": 57,
   "metadata": {},
   "outputs": [
    {
     "name": "stdout",
     "output_type": "stream",
     "text": [
      "0.027281841263585432\n"
     ]
    }
   ],
   "source": [
    "gbr.fit(x_train,y_train)\n",
    "y_pred=gbr.predict(x_test)\n",
    "print(metrics.mean_squared_error(y_pred,y_test))"
   ]
  },
  {
   "cell_type": "code",
   "execution_count": 58,
   "metadata": {},
   "outputs": [
    {
     "name": "stderr",
     "output_type": "stream",
     "text": [
      "C:\\Users\\jackie\\Anaconda3\\lib\\site-packages\\sklearn\\model_selection\\_split.py:1978: FutureWarning: The default value of cv will change from 3 to 5 in version 0.22. Specify it explicitly to silence this warning.\n",
      "  warnings.warn(CV_WARNING, FutureWarning)\n",
      "[Parallel(n_jobs=-1)]: Using backend LokyBackend with 12 concurrent workers.\n"
     ]
    },
    {
     "name": "stdout",
     "output_type": "stream",
     "text": [
      "Fitting 3 folds for each of 16 candidates, totalling 48 fits\n"
     ]
    },
    {
     "name": "stderr",
     "output_type": "stream",
     "text": [
      "[Parallel(n_jobs=-1)]: Done  48 out of  48 | elapsed:    0.2s finished\n",
      "C:\\Users\\jackie\\Anaconda3\\lib\\site-packages\\sklearn\\model_selection\\_search.py:813: DeprecationWarning: The default of the `iid` parameter will change from True to False in version 0.22 and will be removed in 0.24. This will change numeric results when test-set sizes are unequal.\n",
      "  DeprecationWarning)\n"
     ]
    }
   ],
   "source": [
    "#設定超參數\n",
    "n_estimators = [100,150,200,300]\n",
    "max_depth = [1,2,3,5]\n",
    "param_grid = dict(n_estimators=n_estimators, max_depth=max_depth)\n",
    "\n",
    "#建立搜尋物件,放入字典\n",
    "grid_search = GridSearchCV(gbr,param_grid,scoring=\"neg_mean_squared_error\",n_jobs=-1,verbose=1)\n",
    "\n",
    "#搜尋最佳參數\n",
    "grid_result = grid_search.fit(x_train,y_train)\n",
    "\n",
    "#會跑3-fold cross-validation 總共要4種 一共48次"
   ]
  },
  {
   "cell_type": "code",
   "execution_count": 59,
   "metadata": {},
   "outputs": [
    {
     "name": "stdout",
     "output_type": "stream",
     "text": [
      "best accuracy -0.077762 using {'max_depth': 2, 'n_estimators': 150}\n"
     ]
    }
   ],
   "source": [
    "#印出最佳答案與參數\n",
    "print(\"best accuracy %f using %s\" % (grid_result.best_score_ , grid_result.best_params_))"
   ]
  },
  {
   "cell_type": "code",
   "execution_count": 60,
   "metadata": {},
   "outputs": [
    {
     "name": "stdout",
     "output_type": "stream",
     "text": [
      "before using : 0.027282 \n",
      "after using : 0.039147\n"
     ]
    }
   ],
   "source": [
    "#重建最佳模型\n",
    "gbr_best = GradientBoostingRegressor(max_depth = grid_result.best_params_[\"max_depth\"],\n",
    "                                     n_estimators = grid_result.best_params_[\"n_estimators\"])\n",
    "#訓練模型\n",
    "gbr_best.fit(x_train,y_train)\n",
    "\n",
    "#預測\n",
    "y_pred_new = gbr_best.predict(x_test)\n",
    "\n",
    "#分數\n",
    "print(\"before using : %f \" % metrics.mean_squared_error(y_pred,y_test))\n",
    "print(\"after using : %f\" % metrics.mean_squared_error(y_pred_new,y_test))"
   ]
  }
 ],
 "metadata": {
  "kernelspec": {
   "display_name": "Python 3",
   "language": "python",
   "name": "python3"
  },
  "language_info": {
   "codemirror_mode": {
    "name": "ipython",
    "version": 3
   },
   "file_extension": ".py",
   "mimetype": "text/x-python",
   "name": "python",
   "nbconvert_exporter": "python",
   "pygments_lexer": "ipython3",
   "version": "3.7.3"
  }
 },
 "nbformat": 4,
 "nbformat_minor": 2
}
